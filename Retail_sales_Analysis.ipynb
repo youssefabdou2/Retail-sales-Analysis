{
  "cells": [
    {
      "cell_type": "code",
      "execution_count": null,
      "metadata": {
        "editable": true,
        "tags": [
          "graded"
        ],
        "id": "G7eHos4cEpgz"
      },
      "outputs": [],
      "source": [
        "\n",
        "\n",
        "# Importing necessary libraries\n",
        "import pandas as pd\n",
        "\n"
      ]
    },
    {
      "cell_type": "code",
      "execution_count": null,
      "metadata": {
        "deletable": false,
        "editable": true,
        "tags": [
          "graded"
        ],
        "id": "fP_Tt3vkEpg1"
      },
      "outputs": [],
      "source": [
        "\n",
        "\n",
        "# Loading dataset into DataFrame\n",
        "sales_df = pd.read_csv(\"sales.csv\")  # Ensure this file is in the working directory\n"
      ]
    },
    {
      "cell_type": "code",
      "execution_count": null,
      "metadata": {
        "deletable": false,
        "tags": [],
        "id": "NN8Lp2UuEpg1",
        "outputId": "92391f84-f547-4f48-8adf-90036eab3d82"
      },
      "outputs": [
        {
          "data": {
            "text/html": [
              "<div>\n",
              "<style scoped>\n",
              "    .dataframe tbody tr th:only-of-type {\n",
              "        vertical-align: middle;\n",
              "    }\n",
              "\n",
              "    .dataframe tbody tr th {\n",
              "        vertical-align: top;\n",
              "    }\n",
              "\n",
              "    .dataframe thead th {\n",
              "        text-align: right;\n",
              "    }\n",
              "</style>\n",
              "<table border=\"1\" class=\"dataframe\">\n",
              "  <thead>\n",
              "    <tr style=\"text-align: right;\">\n",
              "      <th></th>\n",
              "      <th>invoice_id</th>\n",
              "      <th>date</th>\n",
              "      <th>day_of_week</th>\n",
              "      <th>product_name</th>\n",
              "      <th>units_sold</th>\n",
              "      <th>price_per_unit</th>\n",
              "      <th>amount</th>\n",
              "    </tr>\n",
              "  </thead>\n",
              "  <tbody>\n",
              "    <tr>\n",
              "      <th>0</th>\n",
              "      <td>534377</td>\n",
              "      <td>2010-11-22</td>\n",
              "      <td>Monday</td>\n",
              "      <td>RED RETROSPOT TRADITIONAL TEAPOT</td>\n",
              "      <td>1</td>\n",
              "      <td>7.95</td>\n",
              "      <td>7.95</td>\n",
              "    </tr>\n",
              "    <tr>\n",
              "      <th>1</th>\n",
              "      <td>534377</td>\n",
              "      <td>2010-11-22</td>\n",
              "      <td>Monday</td>\n",
              "      <td>SET/5 RED RETROSPOT LID GLASS BOWLS</td>\n",
              "      <td>1</td>\n",
              "      <td>2.95</td>\n",
              "      <td>2.95</td>\n",
              "    </tr>\n",
              "    <tr>\n",
              "      <th>2</th>\n",
              "      <td>534377</td>\n",
              "      <td>2010-11-22</td>\n",
              "      <td>Monday</td>\n",
              "      <td>BROWN CHECK CAT DOORSTOP</td>\n",
              "      <td>1</td>\n",
              "      <td>4.25</td>\n",
              "      <td>4.25</td>\n",
              "    </tr>\n",
              "    <tr>\n",
              "      <th>3</th>\n",
              "      <td>534377</td>\n",
              "      <td>2010-11-22</td>\n",
              "      <td>Monday</td>\n",
              "      <td>TEA BAG PLATE RED RETROSPOT</td>\n",
              "      <td>2</td>\n",
              "      <td>0.85</td>\n",
              "      <td>1.70</td>\n",
              "    </tr>\n",
              "    <tr>\n",
              "      <th>4</th>\n",
              "      <td>534377</td>\n",
              "      <td>2010-11-22</td>\n",
              "      <td>Monday</td>\n",
              "      <td>CHILLI LIGHTS</td>\n",
              "      <td>1</td>\n",
              "      <td>4.95</td>\n",
              "      <td>4.95</td>\n",
              "    </tr>\n",
              "  </tbody>\n",
              "</table>\n",
              "</div>"
            ],
            "text/plain": [
              "   invoice_id        date day_of_week                         product_name  \\\n",
              "0      534377  2010-11-22      Monday    RED RETROSPOT TRADITIONAL TEAPOT    \n",
              "1      534377  2010-11-22      Monday  SET/5 RED RETROSPOT LID GLASS BOWLS   \n",
              "2      534377  2010-11-22      Monday            BROWN CHECK CAT DOORSTOP    \n",
              "3      534377  2010-11-22      Monday          TEA BAG PLATE RED RETROSPOT   \n",
              "4      534377  2010-11-22      Monday                        CHILLI LIGHTS   \n",
              "\n",
              "   units_sold  price_per_unit  amount  \n",
              "0           1            7.95    7.95  \n",
              "1           1            2.95    2.95  \n",
              "2           1            4.25    4.25  \n",
              "3           2            0.85    1.70  \n",
              "4           1            4.95    4.95  "
            ]
          },
          "execution_count": 4,
          "metadata": {},
          "output_type": "execute_result"
        }
      ],
      "source": [
        "# Displaying summary or sample of the data\n",
        "sales_df.head()"
      ]
    },
    {
      "cell_type": "code",
      "execution_count": null,
      "metadata": {
        "deletable": false,
        "editable": true,
        "tags": [
          "graded"
        ],
        "id": "bI4oD6HPEpg3"
      },
      "outputs": [],
      "source": [
        "\n",
        "\n",
        "feature_types = sales_df.dtypes\n"
      ]
    },
    {
      "cell_type": "code",
      "execution_count": null,
      "metadata": {
        "deletable": false,
        "tags": [],
        "id": "-qsfjdDIEpg4",
        "outputId": "d1ad10d6-7356-4058-e8ff-78ace3511fe0"
      },
      "outputs": [
        {
          "name": "stdout",
          "output_type": "stream",
          "text": [
            "invoice_id          int64\n",
            "date               object\n",
            "day_of_week        object\n",
            "product_name       object\n",
            "units_sold          int64\n",
            "price_per_unit    float64\n",
            "amount            float64\n",
            "dtype: object\n"
          ]
        }
      ],
      "source": [
        "print(feature_types)"
      ]
    },
    {
      "cell_type": "code",
      "execution_count": null,
      "metadata": {
        "deletable": false,
        "editable": true,
        "tags": [
          "graded"
        ],
        "id": "gcwAqq8fEpg5"
      },
      "outputs": [],
      "source": [
        "\n",
        "\n",
        "# Sorting the DataFrame\n",
        "sorted_df = sales_df.sort_values('amount', ascending=False)\n",
        "\n",
        "# Displaying summary or sample of the data\n",
        "top_10 = sorted_df.head(10)"
      ]
    },
    {
      "cell_type": "code",
      "execution_count": null,
      "metadata": {
        "deletable": false,
        "tags": [],
        "id": "OVPoyeavEpg5",
        "outputId": "58a7f2b2-721a-4d75-bc16-3ad76cad73ee"
      },
      "outputs": [
        {
          "data": {
            "text/html": [
              "<div>\n",
              "<style scoped>\n",
              "    .dataframe tbody tr th:only-of-type {\n",
              "        vertical-align: middle;\n",
              "    }\n",
              "\n",
              "    .dataframe tbody tr th {\n",
              "        vertical-align: top;\n",
              "    }\n",
              "\n",
              "    .dataframe thead th {\n",
              "        text-align: right;\n",
              "    }\n",
              "</style>\n",
              "<table border=\"1\" class=\"dataframe\">\n",
              "  <thead>\n",
              "    <tr style=\"text-align: right;\">\n",
              "      <th></th>\n",
              "      <th>invoice_id</th>\n",
              "      <th>date</th>\n",
              "      <th>day_of_week</th>\n",
              "      <th>product_name</th>\n",
              "      <th>units_sold</th>\n",
              "      <th>price_per_unit</th>\n",
              "      <th>amount</th>\n",
              "    </tr>\n",
              "  </thead>\n",
              "  <tbody>\n",
              "    <tr>\n",
              "      <th>438</th>\n",
              "      <td>534418</td>\n",
              "      <td>2010-12-02</td>\n",
              "      <td>Thursday</td>\n",
              "      <td>VINTAGE RED KITCHEN CABINET</td>\n",
              "      <td>1</td>\n",
              "      <td>295.00</td>\n",
              "      <td>295.00</td>\n",
              "    </tr>\n",
              "    <tr>\n",
              "      <th>418</th>\n",
              "      <td>534409</td>\n",
              "      <td>2010-11-30</td>\n",
              "      <td>Tuesday</td>\n",
              "      <td>3 TIER CAKE TIN GREEN AND CREAM</td>\n",
              "      <td>4</td>\n",
              "      <td>14.95</td>\n",
              "      <td>59.80</td>\n",
              "    </tr>\n",
              "    <tr>\n",
              "      <th>301</th>\n",
              "      <td>534399</td>\n",
              "      <td>2010-11-25</td>\n",
              "      <td>Thursday</td>\n",
              "      <td>CAKE TIN, 3 TIER RED/IVORY</td>\n",
              "      <td>3</td>\n",
              "      <td>14.95</td>\n",
              "      <td>44.85</td>\n",
              "    </tr>\n",
              "    <tr>\n",
              "      <th>303</th>\n",
              "      <td>534399</td>\n",
              "      <td>2010-11-25</td>\n",
              "      <td>Thursday</td>\n",
              "      <td>CAKE TIN, 3 TIER MINT/IVORY</td>\n",
              "      <td>3</td>\n",
              "      <td>14.95</td>\n",
              "      <td>44.85</td>\n",
              "    </tr>\n",
              "    <tr>\n",
              "      <th>17</th>\n",
              "      <td>534378</td>\n",
              "      <td>2010-11-22</td>\n",
              "      <td>Monday</td>\n",
              "      <td>SET/4 WHITE RETRO STORAGE CUBES</td>\n",
              "      <td>1</td>\n",
              "      <td>39.95</td>\n",
              "      <td>39.95</td>\n",
              "    </tr>\n",
              "    <tr>\n",
              "      <th>414</th>\n",
              "      <td>534409</td>\n",
              "      <td>2010-11-30</td>\n",
              "      <td>Tuesday</td>\n",
              "      <td>REGENCY CAKESTAND 3 TIER</td>\n",
              "      <td>3</td>\n",
              "      <td>12.75</td>\n",
              "      <td>38.25</td>\n",
              "    </tr>\n",
              "    <tr>\n",
              "      <th>360</th>\n",
              "      <td>534406</td>\n",
              "      <td>2010-11-29</td>\n",
              "      <td>Monday</td>\n",
              "      <td>CREAM SWEETHEART WALL CABINET</td>\n",
              "      <td>2</td>\n",
              "      <td>18.95</td>\n",
              "      <td>37.90</td>\n",
              "    </tr>\n",
              "    <tr>\n",
              "      <th>53</th>\n",
              "      <td>534382</td>\n",
              "      <td>2010-11-23</td>\n",
              "      <td>Tuesday</td>\n",
              "      <td>WOODEN ADVENT CALENDAR CREAM</td>\n",
              "      <td>2</td>\n",
              "      <td>16.95</td>\n",
              "      <td>33.90</td>\n",
              "    </tr>\n",
              "    <tr>\n",
              "      <th>508</th>\n",
              "      <td>534424</td>\n",
              "      <td>2010-11-23</td>\n",
              "      <td>Tuesday</td>\n",
              "      <td>3 TIER CAKE TIN RED AND CREAM</td>\n",
              "      <td>2</td>\n",
              "      <td>14.95</td>\n",
              "      <td>29.90</td>\n",
              "    </tr>\n",
              "    <tr>\n",
              "      <th>564</th>\n",
              "      <td>534443</td>\n",
              "      <td>2010-12-03</td>\n",
              "      <td>Friday</td>\n",
              "      <td>3 TIER CAKE TIN RED AND CREAM</td>\n",
              "      <td>1</td>\n",
              "      <td>29.79</td>\n",
              "      <td>29.79</td>\n",
              "    </tr>\n",
              "  </tbody>\n",
              "</table>\n",
              "</div>"
            ],
            "text/plain": [
              "     invoice_id        date day_of_week                      product_name  \\\n",
              "438      534418  2010-12-02    Thursday       VINTAGE RED KITCHEN CABINET   \n",
              "418      534409  2010-11-30     Tuesday   3 TIER CAKE TIN GREEN AND CREAM   \n",
              "301      534399  2010-11-25    Thursday        CAKE TIN, 3 TIER RED/IVORY   \n",
              "303      534399  2010-11-25    Thursday       CAKE TIN, 3 TIER MINT/IVORY   \n",
              "17       534378  2010-11-22      Monday  SET/4 WHITE RETRO STORAGE CUBES    \n",
              "414      534409  2010-11-30     Tuesday          REGENCY CAKESTAND 3 TIER   \n",
              "360      534406  2010-11-29      Monday     CREAM SWEETHEART WALL CABINET   \n",
              "53       534382  2010-11-23     Tuesday      WOODEN ADVENT CALENDAR CREAM   \n",
              "508      534424  2010-11-23     Tuesday     3 TIER CAKE TIN RED AND CREAM   \n",
              "564      534443  2010-12-03      Friday     3 TIER CAKE TIN RED AND CREAM   \n",
              "\n",
              "     units_sold  price_per_unit  amount  \n",
              "438           1          295.00  295.00  \n",
              "418           4           14.95   59.80  \n",
              "301           3           14.95   44.85  \n",
              "303           3           14.95   44.85  \n",
              "17            1           39.95   39.95  \n",
              "414           3           12.75   38.25  \n",
              "360           2           18.95   37.90  \n",
              "53            2           16.95   33.90  \n",
              "508           2           14.95   29.90  \n",
              "564           1           29.79   29.79  "
            ]
          },
          "execution_count": 9,
          "metadata": {},
          "output_type": "execute_result"
        }
      ],
      "source": [
        "top_10"
      ]
    },
    {
      "cell_type": "code",
      "execution_count": null,
      "metadata": {
        "id": "c0jYajDFEpg6",
        "outputId": "7a397a28-b2e5-4f9c-9830-4e22a00c6dcd"
      },
      "outputs": [
        {
          "name": "stdout",
          "output_type": "stream",
          "text": [
            "Index(['invoice_id', 'date', 'day_of_week', 'product_name', 'units_sold',\n",
            "       'price_per_unit', 'amount'],\n",
            "      dtype='object')\n"
          ]
        }
      ],
      "source": [
        "print(sales_df.columns)\n"
      ]
    },
    {
      "cell_type": "code",
      "execution_count": null,
      "metadata": {
        "deletable": false,
        "editable": true,
        "tags": [
          "graded"
        ],
        "id": "wE0zwhnXEpg8"
      },
      "outputs": [],
      "source": [
        "\n",
        "\n",
        "product_counts = sales_df['product_name'].value_counts()"
      ]
    },
    {
      "cell_type": "code",
      "execution_count": null,
      "metadata": {
        "editable": true,
        "tags": [],
        "id": "RfXr29iPEpg8",
        "outputId": "aa2e76b3-80f1-4506-a74a-152b6a8431c3"
      },
      "outputs": [
        {
          "data": {
            "text/plain": [
              "product_name\n",
              "HAND WARMER BIRD DESIGN           8\n",
              "HAND WARMER OWL DESIGN            8\n",
              "HAND WARMER RED RETROSPOT         7\n",
              "CHRISTMAS CRAFT LITTLE FRIENDS    7\n",
              "HAND WARMER SCOTTY DOG DESIGN     6\n",
              "Name: count, dtype: int64"
            ]
          },
          "execution_count": 13,
          "metadata": {},
          "output_type": "execute_result"
        }
      ],
      "source": [
        "# Displaying summary or sample of the data\n",
        "product_counts.head()\n"
      ]
    },
    {
      "cell_type": "code",
      "execution_count": null,
      "metadata": {
        "editable": true,
        "tags": [
          "graded"
        ],
        "id": "AXLBVBeBEpg9"
      },
      "outputs": [],
      "source": [
        "\n",
        "\n",
        "# Aggregating data\n",
        "grouped_by_product_name = sales_df.groupby('product_name')\n",
        "unit_counts = grouped_by_product_name['units_sold'].sum()\n",
        "\n"
      ]
    },
    {
      "cell_type": "code",
      "execution_count": null,
      "metadata": {
        "editable": true,
        "tags": [],
        "id": "fjxxI_4nEpg-",
        "outputId": "a98b8678-4e1a-4491-b351-d5950833c46f"
      },
      "outputs": [
        {
          "data": {
            "text/plain": [
              "product_name\n",
              "HAND WARMER BIRD DESIGN      14\n",
              "SMALL POPCORN HOLDER         13\n",
              "HAND WARMER RED RETROSPOT    13\n",
              "SCANDINAVIAN REDS RIBBONS    12\n",
              "HAND WARMER OWL DESIGN       12\n",
              "Name: units_sold, dtype: int64"
            ]
          },
          "execution_count": 15,
          "metadata": {},
          "output_type": "execute_result"
        }
      ],
      "source": [
        "# Sorting the DataFrame\n",
        "unit_counts.sort_values(ascending=False).head()"
      ]
    },
    {
      "cell_type": "code",
      "execution_count": null,
      "metadata": {
        "editable": true,
        "tags": [
          "graded"
        ],
        "id": "0xXYvlxZEpg_"
      },
      "outputs": [],
      "source": [
        "\n",
        "\n",
        "df_filtered = sales_df[\n",
        "    (sales_df['product_name'] == 'HAND WARMER BIRD DESIGN') &\n",
        "    (sales_df['units_sold'] > 1)\n",
        "]\n",
        "\n"
      ]
    },
    {
      "cell_type": "code",
      "execution_count": null,
      "metadata": {
        "editable": true,
        "tags": [],
        "id": "JF5UtiUrEphA",
        "outputId": "3774b67c-b8ab-47bd-e633-24bf46066193"
      },
      "outputs": [
        {
          "data": {
            "text/html": [
              "<div>\n",
              "<style scoped>\n",
              "    .dataframe tbody tr th:only-of-type {\n",
              "        vertical-align: middle;\n",
              "    }\n",
              "\n",
              "    .dataframe tbody tr th {\n",
              "        vertical-align: top;\n",
              "    }\n",
              "\n",
              "    .dataframe thead th {\n",
              "        text-align: right;\n",
              "    }\n",
              "</style>\n",
              "<table border=\"1\" class=\"dataframe\">\n",
              "  <thead>\n",
              "    <tr style=\"text-align: right;\">\n",
              "      <th></th>\n",
              "      <th>invoice_id</th>\n",
              "      <th>date</th>\n",
              "      <th>day_of_week</th>\n",
              "      <th>product_name</th>\n",
              "      <th>units_sold</th>\n",
              "      <th>price_per_unit</th>\n",
              "      <th>amount</th>\n",
              "    </tr>\n",
              "  </thead>\n",
              "  <tbody>\n",
              "    <tr>\n",
              "      <th>527</th>\n",
              "      <td>534429</td>\n",
              "      <td>2010-11-24</td>\n",
              "      <td>Wednesday</td>\n",
              "      <td>HAND WARMER BIRD DESIGN</td>\n",
              "      <td>3</td>\n",
              "      <td>2.1</td>\n",
              "      <td>6.3</td>\n",
              "    </tr>\n",
              "    <tr>\n",
              "      <th>534</th>\n",
              "      <td>534431</td>\n",
              "      <td>2010-11-24</td>\n",
              "      <td>Wednesday</td>\n",
              "      <td>HAND WARMER BIRD DESIGN</td>\n",
              "      <td>3</td>\n",
              "      <td>2.1</td>\n",
              "      <td>6.3</td>\n",
              "    </tr>\n",
              "    <tr>\n",
              "      <th>536</th>\n",
              "      <td>534432</td>\n",
              "      <td>2010-11-25</td>\n",
              "      <td>Thursday</td>\n",
              "      <td>HAND WARMER BIRD DESIGN</td>\n",
              "      <td>2</td>\n",
              "      <td>2.1</td>\n",
              "      <td>4.2</td>\n",
              "    </tr>\n",
              "    <tr>\n",
              "      <th>550</th>\n",
              "      <td>534438</td>\n",
              "      <td>2010-11-30</td>\n",
              "      <td>Tuesday</td>\n",
              "      <td>HAND WARMER BIRD DESIGN</td>\n",
              "      <td>2</td>\n",
              "      <td>2.1</td>\n",
              "      <td>4.2</td>\n",
              "    </tr>\n",
              "  </tbody>\n",
              "</table>\n",
              "</div>"
            ],
            "text/plain": [
              "     invoice_id        date day_of_week             product_name  units_sold  \\\n",
              "527      534429  2010-11-24   Wednesday  HAND WARMER BIRD DESIGN           3   \n",
              "534      534431  2010-11-24   Wednesday  HAND WARMER BIRD DESIGN           3   \n",
              "536      534432  2010-11-25    Thursday  HAND WARMER BIRD DESIGN           2   \n",
              "550      534438  2010-11-30     Tuesday  HAND WARMER BIRD DESIGN           2   \n",
              "\n",
              "     price_per_unit  amount  \n",
              "527             2.1     6.3  \n",
              "534             2.1     6.3  \n",
              "536             2.1     4.2  \n",
              "550             2.1     4.2  "
            ]
          },
          "execution_count": 17,
          "metadata": {},
          "output_type": "execute_result"
        }
      ],
      "source": [
        "# Displaying summary or sample of the data\n",
        "df_filtered.head()"
      ]
    },
    {
      "cell_type": "code",
      "execution_count": null,
      "metadata": {
        "editable": true,
        "tags": [],
        "id": "hxn-sdVmEphB",
        "outputId": "c47071c0-7464-4451-f44f-f0306f6e005a"
      },
      "outputs": [
        {
          "data": {
            "text/plain": [
              "549            HAND WARMER OWL DESIGN\n",
              "550           HAND WARMER BIRD DESIGN\n",
              "551         HAND WARMER RED RETROSPOT\n",
              "552     3 TIER CAKE TIN RED AND CREAM\n",
              "553    CHRISTMAS CRAFT LITTLE FRIENDS\n",
              "Name: product_name, dtype: object"
            ]
          },
          "execution_count": 18,
          "metadata": {},
          "output_type": "execute_result"
        }
      ],
      "source": [
        "index = 534438\n",
        "\n",
        "row = sales_df[(sales_df[\"invoice_id\"]==index)]\n",
        "\n",
        "row['product_name']"
      ]
    },
    {
      "cell_type": "code",
      "execution_count": null,
      "metadata": {
        "deletable": false,
        "editable": true,
        "tags": [
          "graded"
        ],
        "id": "Cro_IDqMEphR"
      },
      "outputs": [],
      "source": [
        "\n",
        "\n",
        "# Aggregating data\n",
        "pivot_by_invoice = sales_df.pivot_table(\n",
        "    index=\"invoice_id\",\n",
        "    values=[\"units_sold\", \"amount\"],\n",
        "    aggfunc=\"sum\"\n",
        ")\n"
      ]
    },
    {
      "cell_type": "code",
      "execution_count": null,
      "metadata": {
        "deletable": false,
        "editable": true,
        "tags": [],
        "id": "yuNwEsrgEphR",
        "outputId": "e71585ca-bb72-426b-c75d-cd6c8a9380aa"
      },
      "outputs": [
        {
          "data": {
            "text/html": [
              "<div>\n",
              "<style scoped>\n",
              "    .dataframe tbody tr th:only-of-type {\n",
              "        vertical-align: middle;\n",
              "    }\n",
              "\n",
              "    .dataframe tbody tr th {\n",
              "        vertical-align: top;\n",
              "    }\n",
              "\n",
              "    .dataframe thead th {\n",
              "        text-align: right;\n",
              "    }\n",
              "</style>\n",
              "<table border=\"1\" class=\"dataframe\">\n",
              "  <thead>\n",
              "    <tr style=\"text-align: right;\">\n",
              "      <th></th>\n",
              "      <th>amount</th>\n",
              "      <th>units_sold</th>\n",
              "    </tr>\n",
              "    <tr>\n",
              "      <th>invoice_id</th>\n",
              "      <th></th>\n",
              "      <th></th>\n",
              "    </tr>\n",
              "  </thead>\n",
              "  <tbody>\n",
              "    <tr>\n",
              "      <th>534377</th>\n",
              "      <td>94.99</td>\n",
              "      <td>19</td>\n",
              "    </tr>\n",
              "    <tr>\n",
              "      <th>534378</th>\n",
              "      <td>39.95</td>\n",
              "      <td>1</td>\n",
              "    </tr>\n",
              "    <tr>\n",
              "      <th>534379</th>\n",
              "      <td>23.80</td>\n",
              "      <td>4</td>\n",
              "    </tr>\n",
              "    <tr>\n",
              "      <th>534380</th>\n",
              "      <td>113.35</td>\n",
              "      <td>13</td>\n",
              "    </tr>\n",
              "    <tr>\n",
              "      <th>534381</th>\n",
              "      <td>140.35</td>\n",
              "      <td>55</td>\n",
              "    </tr>\n",
              "  </tbody>\n",
              "</table>\n",
              "</div>"
            ],
            "text/plain": [
              "            amount  units_sold\n",
              "invoice_id                    \n",
              "534377       94.99          19\n",
              "534378       39.95           1\n",
              "534379       23.80           4\n",
              "534380      113.35          13\n",
              "534381      140.35          55"
            ]
          },
          "execution_count": 20,
          "metadata": {},
          "output_type": "execute_result"
        }
      ],
      "source": [
        "# Displaying summary or sample of the data\n",
        "pivot_by_invoice.head()"
      ]
    },
    {
      "cell_type": "code",
      "execution_count": null,
      "metadata": {
        "id": "rK7B5LlfEphS"
      },
      "outputs": [],
      "source": [
        "# Aggregating data\n",
        "pivot_by_invoice = sales_df.pivot_table(index=\"invoice_id\", values=[\"units_sold\", \"amount\"], aggfunc=\"sum\")"
      ]
    },
    {
      "cell_type": "code",
      "execution_count": null,
      "metadata": {
        "editable": true,
        "tags": [],
        "id": "kAo9kmGfEphS",
        "outputId": "8aaaa0c7-300f-4bcf-dc24-f4de36c081e1"
      },
      "outputs": [
        {
          "data": {
            "text/plain": [
              "pandas.core.frame.DataFrame"
            ]
          },
          "execution_count": 22,
          "metadata": {},
          "output_type": "execute_result"
        }
      ],
      "source": [
        "type(pivot_by_invoice)"
      ]
    },
    {
      "cell_type": "code",
      "execution_count": null,
      "metadata": {
        "editable": true,
        "tags": [],
        "id": "g-v7D0CGEphT"
      },
      "outputs": [],
      "source": [
        "# Displaying summary or sample of the data\n",
        "pivot_by_invoice.info()"
      ]
    },
    {
      "cell_type": "code",
      "execution_count": null,
      "metadata": {
        "editable": true,
        "tags": [
          "graded"
        ],
        "id": "Xc_ThkfEEphU"
      },
      "outputs": [],
      "source": [
        "\n",
        "\n",
        "pbi_sliced = None\n"
      ]
    },
    {
      "cell_type": "code",
      "execution_count": null,
      "metadata": {
        "editable": true,
        "tags": [],
        "id": "va25Z1v-EphU"
      },
      "outputs": [],
      "source": [
        "print(\"number of rows:\", len(pbi_sliced))\n",
        "print()\n",
        "\n",
        "print(pbi_sliced.iloc[0])\n",
        "print()\n",
        "print(pbi_sliced.iloc[39])"
      ]
    },
    {
      "cell_type": "code",
      "execution_count": null,
      "metadata": {
        "deletable": false,
        "editable": true,
        "tags": [
          "graded"
        ],
        "id": "V5roUdijEphV"
      },
      "outputs": [],
      "source": [
        "\n",
        "\n",
        "amount_sum = None\n",
        "amount_mean = None\n",
        "amount_max = None\n",
        "\n",
        "corr_units_amount = None\n"
      ]
    },
    {
      "cell_type": "code",
      "execution_count": null,
      "metadata": {
        "deletable": false,
        "editable": true,
        "tags": [],
        "id": "9vqITU-0EphW"
      },
      "outputs": [],
      "source": [
        "print(\"The sum of all sales is:\", round(amount_sum, 2))\n",
        "print(\"The mean amount per purchase is:\", round(amount_mean, 2))\n",
        "print(\"The highest purchase amount is:\", round(amount_max, 2))\n",
        "print(\"The correlation between the amount and number of units sold per invoice is\",\n",
        "      round(corr_units_amount.loc['amount']['units_sold'],4))"
      ]
    }
  ],
  "metadata": {
    "grader_version": "2",
    "kernelspec": {
      "display_name": "Python 3 (ipykernel)",
      "language": "python",
      "name": "python3"
    },
    "language_info": {
      "codemirror_mode": {
        "name": "ipython",
        "version": 3
      },
      "file_extension": ".py",
      "mimetype": "text/x-python",
      "name": "python",
      "nbconvert_exporter": "python",
      "pygments_lexer": "ipython3",
      "version": "3.11.6"
    },
    "colab": {
      "provenance": []
    }
  },
  "nbformat": 4,
  "nbformat_minor": 0
}